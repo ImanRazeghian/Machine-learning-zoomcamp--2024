{
 "cells": [
  {
   "cell_type": "code",
   "execution_count": 1,
   "id": "398834c0",
   "metadata": {},
   "outputs": [],
   "source": [
    "import numpy as np\n",
    "import pandas as pd"
   ]
  },
  {
   "cell_type": "code",
   "execution_count": 2,
   "id": "6b51cf6d",
   "metadata": {},
   "outputs": [
    {
     "data": {
      "text/plain": [
       "'1.3.4'"
      ]
     },
     "execution_count": 2,
     "metadata": {},
     "output_type": "execute_result"
    }
   ],
   "source": [
    "#Question 1 : pandas version\n",
    "pandas_version = pd.__version__\n",
    "pandas_version"
   ]
  },
  {
   "cell_type": "code",
   "execution_count": 3,
   "id": "e50c0bd0",
   "metadata": {},
   "outputs": [
    {
     "data": {
      "text/html": [
       "<div>\n",
       "<style scoped>\n",
       "    .dataframe tbody tr th:only-of-type {\n",
       "        vertical-align: middle;\n",
       "    }\n",
       "\n",
       "    .dataframe tbody tr th {\n",
       "        vertical-align: top;\n",
       "    }\n",
       "\n",
       "    .dataframe thead th {\n",
       "        text-align: right;\n",
       "    }\n",
       "</style>\n",
       "<table border=\"1\" class=\"dataframe\">\n",
       "  <thead>\n",
       "    <tr style=\"text-align: right;\">\n",
       "      <th></th>\n",
       "      <th>Laptop</th>\n",
       "      <th>Status</th>\n",
       "      <th>Brand</th>\n",
       "      <th>Model</th>\n",
       "      <th>CPU</th>\n",
       "      <th>RAM</th>\n",
       "      <th>Storage</th>\n",
       "      <th>Storage type</th>\n",
       "      <th>GPU</th>\n",
       "      <th>Screen</th>\n",
       "      <th>Touch</th>\n",
       "      <th>Final Price</th>\n",
       "    </tr>\n",
       "  </thead>\n",
       "  <tbody>\n",
       "    <tr>\n",
       "      <th>0</th>\n",
       "      <td>ASUS ExpertBook B1 B1502CBA-EJ0436X Intel Core...</td>\n",
       "      <td>New</td>\n",
       "      <td>Asus</td>\n",
       "      <td>ExpertBook</td>\n",
       "      <td>Intel Core i5</td>\n",
       "      <td>8</td>\n",
       "      <td>512</td>\n",
       "      <td>SSD</td>\n",
       "      <td>NaN</td>\n",
       "      <td>15.6</td>\n",
       "      <td>No</td>\n",
       "      <td>1009.00</td>\n",
       "    </tr>\n",
       "    <tr>\n",
       "      <th>1</th>\n",
       "      <td>Alurin Go Start Intel Celeron N4020/8GB/256GB ...</td>\n",
       "      <td>New</td>\n",
       "      <td>Alurin</td>\n",
       "      <td>Go</td>\n",
       "      <td>Intel Celeron</td>\n",
       "      <td>8</td>\n",
       "      <td>256</td>\n",
       "      <td>SSD</td>\n",
       "      <td>NaN</td>\n",
       "      <td>15.6</td>\n",
       "      <td>No</td>\n",
       "      <td>299.00</td>\n",
       "    </tr>\n",
       "    <tr>\n",
       "      <th>2</th>\n",
       "      <td>ASUS ExpertBook B1 B1502CBA-EJ0424X Intel Core...</td>\n",
       "      <td>New</td>\n",
       "      <td>Asus</td>\n",
       "      <td>ExpertBook</td>\n",
       "      <td>Intel Core i3</td>\n",
       "      <td>8</td>\n",
       "      <td>256</td>\n",
       "      <td>SSD</td>\n",
       "      <td>NaN</td>\n",
       "      <td>15.6</td>\n",
       "      <td>No</td>\n",
       "      <td>789.00</td>\n",
       "    </tr>\n",
       "    <tr>\n",
       "      <th>3</th>\n",
       "      <td>MSI Katana GF66 12UC-082XES Intel Core i7-1270...</td>\n",
       "      <td>New</td>\n",
       "      <td>MSI</td>\n",
       "      <td>Katana</td>\n",
       "      <td>Intel Core i7</td>\n",
       "      <td>16</td>\n",
       "      <td>1000</td>\n",
       "      <td>SSD</td>\n",
       "      <td>RTX 3050</td>\n",
       "      <td>15.6</td>\n",
       "      <td>No</td>\n",
       "      <td>1199.00</td>\n",
       "    </tr>\n",
       "    <tr>\n",
       "      <th>4</th>\n",
       "      <td>HP 15S-FQ5085NS Intel Core i5-1235U/16GB/512GB...</td>\n",
       "      <td>New</td>\n",
       "      <td>HP</td>\n",
       "      <td>15S</td>\n",
       "      <td>Intel Core i5</td>\n",
       "      <td>16</td>\n",
       "      <td>512</td>\n",
       "      <td>SSD</td>\n",
       "      <td>NaN</td>\n",
       "      <td>15.6</td>\n",
       "      <td>No</td>\n",
       "      <td>669.01</td>\n",
       "    </tr>\n",
       "  </tbody>\n",
       "</table>\n",
       "</div>"
      ],
      "text/plain": [
       "                                              Laptop Status   Brand  \\\n",
       "0  ASUS ExpertBook B1 B1502CBA-EJ0436X Intel Core...    New    Asus   \n",
       "1  Alurin Go Start Intel Celeron N4020/8GB/256GB ...    New  Alurin   \n",
       "2  ASUS ExpertBook B1 B1502CBA-EJ0424X Intel Core...    New    Asus   \n",
       "3  MSI Katana GF66 12UC-082XES Intel Core i7-1270...    New     MSI   \n",
       "4  HP 15S-FQ5085NS Intel Core i5-1235U/16GB/512GB...    New      HP   \n",
       "\n",
       "        Model            CPU  RAM  Storage Storage type       GPU  Screen  \\\n",
       "0  ExpertBook  Intel Core i5    8      512          SSD       NaN    15.6   \n",
       "1          Go  Intel Celeron    8      256          SSD       NaN    15.6   \n",
       "2  ExpertBook  Intel Core i3    8      256          SSD       NaN    15.6   \n",
       "3      Katana  Intel Core i7   16     1000          SSD  RTX 3050    15.6   \n",
       "4         15S  Intel Core i5   16      512          SSD       NaN    15.6   \n",
       "\n",
       "  Touch  Final Price  \n",
       "0    No      1009.00  \n",
       "1    No       299.00  \n",
       "2    No       789.00  \n",
       "3    No      1199.00  \n",
       "4    No       669.01  "
      ]
     },
     "execution_count": 3,
     "metadata": {},
     "output_type": "execute_result"
    }
   ],
   "source": [
    "# uploading laptops dataset \n",
    "laptop = pd.read_csv(\"C:/Users/Narges/OneDrive/Desktop/zoomcamp/laptops.csv\")\n",
    "laptop.head()"
   ]
  },
  {
   "cell_type": "code",
   "execution_count": 4,
   "id": "f591b883",
   "metadata": {},
   "outputs": [
    {
     "data": {
      "text/plain": [
       "2160"
      ]
     },
     "execution_count": 4,
     "metadata": {},
     "output_type": "execute_result"
    }
   ],
   "source": [
    "# Q2 : no of laptops dataset records\n",
    "no_record = laptop.index\n",
    "len(no_record)"
   ]
  },
  {
   "cell_type": "code",
   "execution_count": 5,
   "id": "3284f25e",
   "metadata": {},
   "outputs": [
    {
     "data": {
      "text/plain": [
       "27"
      ]
     },
     "execution_count": 5,
     "metadata": {},
     "output_type": "execute_result"
    }
   ],
   "source": [
    "# Q4 no of unique laptop brands\n",
    "Brands = laptop[\"Brand\"].nunique()\n",
    "Brands"
   ]
  },
  {
   "cell_type": "code",
   "execution_count": 6,
   "id": "2f37d7ce",
   "metadata": {},
   "outputs": [
    {
     "data": {
      "text/plain": [
       "3"
      ]
     },
     "execution_count": 6,
     "metadata": {},
     "output_type": "execute_result"
    }
   ],
   "source": [
    "# Q5: Missing values\n",
    "null = laptop.isnull().sum()\n",
    "null[null!=0].size"
   ]
  },
  {
   "cell_type": "code",
   "execution_count": 7,
   "id": "22ab6b97",
   "metadata": {},
   "outputs": [
    {
     "data": {
      "text/plain": [
       "3936.0"
      ]
     },
     "execution_count": 7,
     "metadata": {},
     "output_type": "execute_result"
    }
   ],
   "source": [
    "# Q6: Maximum final price\n",
    "max_price_of_dell = laptop.loc[laptop[\"Brand\"] == \"Dell\", \"Final Price\"].max()\n",
    "max_price_of_dell"
   ]
  },
  {
   "cell_type": "code",
   "execution_count": 8,
   "id": "aef327ad",
   "metadata": {},
   "outputs": [
    {
     "data": {
      "text/plain": [
       "15.6"
      ]
     },
     "execution_count": 8,
     "metadata": {},
     "output_type": "execute_result"
    }
   ],
   "source": [
    "# Q6.1: Median value of Screen\n",
    "median_screen = laptop[\"Screen\"].median()\n",
    "median_screen"
   ]
  },
  {
   "cell_type": "code",
   "execution_count": 9,
   "id": "8848ba55",
   "metadata": {},
   "outputs": [
    {
     "data": {
      "text/plain": [
       "15.60    1009\n",
       "14.00     392\n",
       "16.00     174\n",
       "17.30     161\n",
       "13.30     131\n",
       "16.10      48\n",
       "17.00      33\n",
       "13.00      27\n",
       "15.00      21\n",
       "13.50      19\n",
       "13.40      19\n",
       "11.60      16\n",
       "14.20      14\n",
       "12.30      13\n",
       "14.10      11\n",
       "13.60      11\n",
       "16.20      10\n",
       "15.30       8\n",
       "10.50       7\n",
       "14.40       6\n",
       "12.40       6\n",
       "15.40       5\n",
       "12.00       4\n",
       "18.00       3\n",
       "14.50       3\n",
       "13.90       2\n",
       "12.50       1\n",
       "10.10       1\n",
       "10.95       1\n",
       "Name: Screen, dtype: int64"
      ]
     },
     "execution_count": 9,
     "metadata": {},
     "output_type": "execute_result"
    }
   ],
   "source": [
    "# Q6.2: Median value of Screen\n",
    "screen_value_counts = laptop[\"Screen\"].value_counts()\n",
    "screen_value_counts"
   ]
  },
  {
   "cell_type": "code",
   "execution_count": 10,
   "id": "349e86a1",
   "metadata": {},
   "outputs": [],
   "source": [
    "# Q6.3: Median value of Screen\n",
    "laptop[\"Screen\"].fillna(15.60, inplace=True)"
   ]
  },
  {
   "cell_type": "code",
   "execution_count": 11,
   "id": "2cea9ea5",
   "metadata": {},
   "outputs": [
    {
     "data": {
      "text/plain": [
       "15.6"
      ]
     },
     "execution_count": 11,
     "metadata": {},
     "output_type": "execute_result"
    }
   ],
   "source": [
    "# Q6.4: Median value of Screen\n",
    "new_median_screen = laptop[\"Screen\"].median()\n",
    "new_median_screen"
   ]
  },
  {
   "cell_type": "code",
   "execution_count": 12,
   "id": "320a9e6f",
   "metadata": {},
   "outputs": [
    {
     "name": "stdout",
     "output_type": "stream",
     "text": [
      "no, it has not changed\n"
     ]
    }
   ],
   "source": [
    "# Q6.5: Median value of Screen/ Has it changed?\n",
    "if new_median_screen == median_screen:\n",
    "    print(\"no, it has not changed\")\n"
   ]
  },
  {
   "cell_type": "code",
   "execution_count": 21,
   "id": "3ead54d6",
   "metadata": {},
   "outputs": [
    {
     "data": {
      "text/plain": [
       "array([[  8. , 256. ,  15.6],\n",
       "       [  8. , 512. ,  15.6],\n",
       "       [  4. ,  64. ,  14.1],\n",
       "       [  6. ,  64. ,  14.1],\n",
       "       [  6. , 128. ,  14.1],\n",
       "       [  6. , 128. ,  14.1]])"
      ]
     },
     "execution_count": 21,
     "metadata": {},
     "output_type": "execute_result"
    }
   ],
   "source": [
    "# Q7.1-3\n",
    "innjoo = laptop.loc[laptop[\"Brand\"] == \"Innjoo\", [\"RAM\", \"Storage\", \"Screen\"]]\n",
    "x = innjoo.values\n",
    "x\n"
   ]
  },
  {
   "cell_type": "code",
   "execution_count": 22,
   "id": "cb20c2bb",
   "metadata": {},
   "outputs": [
    {
     "data": {
      "text/plain": [
       "array([[2.52000e+02, 8.32000e+03, 5.59800e+02],\n",
       "       [8.32000e+03, 3.68640e+05, 1.73952e+04],\n",
       "       [5.59800e+02, 1.73952e+04, 1.28196e+03]])"
      ]
     },
     "execution_count": 22,
     "metadata": {},
     "output_type": "execute_result"
    }
   ],
   "source": [
    "# Q7.4\n",
    "XTX = x.T @ x\n",
    "XTX"
   ]
  },
  {
   "cell_type": "code",
   "execution_count": 23,
   "id": "c5850e74",
   "metadata": {},
   "outputs": [
    {
     "data": {
      "text/plain": [
       "array([[ 2.78025381e-01, -1.51791334e-03, -1.00809855e-01],\n",
       "       [-1.51791334e-03,  1.58286725e-05,  4.48052175e-04],\n",
       "       [-1.00809855e-01,  4.48052175e-04,  3.87214888e-02]])"
      ]
     },
     "execution_count": 23,
     "metadata": {},
     "output_type": "execute_result"
    }
   ],
   "source": [
    "# Q7.5\n",
    "XTX_inverse = np.linalg.inv(XTX)\n",
    "XTX_inverse"
   ]
  },
  {
   "cell_type": "code",
   "execution_count": 24,
   "id": "8347d371",
   "metadata": {},
   "outputs": [
    {
     "data": {
      "text/plain": [
       "array([45.58076606,  0.42783519, 45.29127938])"
      ]
     },
     "execution_count": 24,
     "metadata": {},
     "output_type": "execute_result"
    }
   ],
   "source": [
    "# Q7.6-7\n",
    "y = np.array([1100, 1300, 800, 900, 1000, 1100])\n",
    "w = XTX_inverse @ (x.T) @ y\n",
    "w"
   ]
  },
  {
   "cell_type": "code",
   "execution_count": 25,
   "id": "5fc46b15",
   "metadata": {},
   "outputs": [
    {
     "data": {
      "text/plain": [
       "91.29988062995496"
      ]
     },
     "execution_count": 25,
     "metadata": {},
     "output_type": "execute_result"
    }
   ],
   "source": [
    "# Q7.8\n",
    "w_sum = np.sum(w)\n",
    "w_sum"
   ]
  },
  {
   "cell_type": "code",
   "execution_count": null,
   "id": "4fe6c570",
   "metadata": {},
   "outputs": [],
   "source": []
  }
 ],
 "metadata": {
  "kernelspec": {
   "display_name": "Python 3 (ipykernel)",
   "language": "python",
   "name": "python3"
  },
  "language_info": {
   "codemirror_mode": {
    "name": "ipython",
    "version": 3
   },
   "file_extension": ".py",
   "mimetype": "text/x-python",
   "name": "python",
   "nbconvert_exporter": "python",
   "pygments_lexer": "ipython3",
   "version": "3.9.7"
  }
 },
 "nbformat": 4,
 "nbformat_minor": 5
}
